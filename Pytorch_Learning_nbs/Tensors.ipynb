{
 "cells": [
  {
   "cell_type": "code",
   "execution_count": 1,
   "id": "7fc5fa95",
   "metadata": {},
   "outputs": [],
   "source": [
    "%matplotlib inline"
   ]
  },
  {
   "cell_type": "code",
   "execution_count": 2,
   "id": "ef234be3",
   "metadata": {},
   "outputs": [],
   "source": [
    "import torch\n",
    "import numpy as np"
   ]
  },
  {
   "cell_type": "code",
   "execution_count": 3,
   "id": "6d2e384c",
   "metadata": {
    "scrolled": false
   },
   "outputs": [
    {
     "name": "stdout",
     "output_type": "stream",
     "text": [
      "tensor([[1, 2],\n",
      "        [3, 4]])\n"
     ]
    }
   ],
   "source": [
    "data = [[1,2],[3,4]]\n",
    "x_data = torch.tensor(data)\n",
    "print(x_data)"
   ]
  },
  {
   "cell_type": "markdown",
   "id": "7215e3de",
   "metadata": {},
   "source": [
    "*Import from data*"
   ]
  },
  {
   "cell_type": "code",
   "execution_count": 4,
   "id": "eb65fcc7",
   "metadata": {},
   "outputs": [
    {
     "name": "stdout",
     "output_type": "stream",
     "text": [
      "[[1 2]\n",
      " [3 4]]\n"
     ]
    }
   ],
   "source": [
    "nparray = np.array(data)\n",
    "print(nparray)"
   ]
  },
  {
   "cell_type": "code",
   "execution_count": 5,
   "id": "8ea18880",
   "metadata": {},
   "outputs": [
    {
     "name": "stdout",
     "output_type": "stream",
     "text": [
      "Ones Tensor: \n",
      " tensor([[1, 1],\n",
      "        [1, 1]]) \n",
      "\n",
      "Random Tensor: \n",
      " tensor([[0.5819, 0.4610],\n",
      "        [0.0753, 0.6717]]) \n",
      "\n"
     ]
    }
   ],
   "source": [
    "x_ones = torch.ones_like(x_data)\n",
    "print(f\"Ones Tensor: \\n {x_ones} \\n\")\n",
    "\n",
    "x_rand = torch.rand_like(x_data, dtype = torch.float)\n",
    "print(f\"Random Tensor: \\n {x_rand} \\n\")"
   ]
  },
  {
   "cell_type": "markdown",
   "id": "4e3de640",
   "metadata": {},
   "source": [
    "## Shape\n",
    "define the shape of a tensor"
   ]
  },
  {
   "cell_type": "code",
   "execution_count": null,
   "id": "17a8a45c",
   "metadata": {},
   "outputs": [],
   "source": [
    "shape1 = (2,3,2,)\n",
    "rand_shape1 = torch.rand(shape1)\n",
    "print(f\"Random Tensor with specified shape: \\n {rand_shape1} \\n\")"
   ]
  },
  {
   "cell_type": "markdown",
   "id": "d4d5c450",
   "metadata": {},
   "source": [
    "## Properties of a tensor\n",
    "\n",
    "Shape\n",
    "datatype\n",
    "device(?)"
   ]
  },
  {
   "cell_type": "code",
   "execution_count": 7,
   "id": "c4c1fe01",
   "metadata": {},
   "outputs": [
    {
     "name": "stdout",
     "output_type": "stream",
     "text": [
      "Shape: torch.Size([3, 4])\n",
      "Datatype: torch.float32\n",
      "Device: cpu\n"
     ]
    }
   ],
   "source": [
    "tensor_for_properties = torch.rand(3,4)\n",
    "print(f\"Shape: {tensor_for_properties.shape}\")\n",
    "print(f\"Datatype: {tensor_for_properties.dtype}\")\n",
    "print(f\"Device: {tensor_for_properties.device}\")"
   ]
  },
  {
   "cell_type": "markdown",
   "id": "7c76484e",
   "metadata": {},
   "source": [
    "Move large tensors between devices can be expensive"
   ]
  },
  {
   "cell_type": "code",
   "execution_count": 15,
   "id": "49a9040a",
   "metadata": {},
   "outputs": [],
   "source": [
    "# We move our tensor to the GPU if available\n",
    "if torch.cuda.is_available():\n",
    "  tensor = tensor.to('cuda')"
   ]
  },
  {
   "cell_type": "code",
   "execution_count": 16,
   "id": "9cbfef1d",
   "metadata": {},
   "outputs": [
    {
     "name": "stdout",
     "output_type": "stream",
     "text": [
      "tensor([[0.1288, 0.7237, 0.8743, 0.6228, 0.3967],\n",
      "        [0.2874, 0.8631, 0.4989, 0.4614, 0.9405],\n",
      "        [0.7952, 0.7744, 0.5684, 0.7700, 0.4791]])\n",
      "First row: tensor([0.1288, 0.7237, 0.8743, 0.6228, 0.3967])\n",
      "First column: tensor([0.1288, 0.2874, 0.7952])\n",
      "Last column: tensor([0.3967, 0.9405, 0.4791])\n",
      "tensor([[0.1288, 0.0000, 0.8743, 0.6228, 0.3967],\n",
      "        [0.2874, 0.0000, 0.4989, 0.4614, 0.9405],\n",
      "        [0.7952, 0.0000, 0.5684, 0.7700, 0.4791]])\n"
     ]
    }
   ],
   "source": [
    "tensor = torch.rand(3,5)\n",
    "print(tensor)\n",
    "print(\"First row:\", tensor[0,:])\n",
    "print(\"First column:\", tensor[:,0])\n",
    "print(\"Last column:\", tensor[:,-1])\n",
    "\n",
    "# Modification to elements\n",
    "tensor[:,1] = 0\n",
    "print(tensor)"
   ]
  },
  {
   "cell_type": "code",
   "execution_count": 18,
   "id": "211d6eae",
   "metadata": {},
   "outputs": [
    {
     "name": "stdout",
     "output_type": "stream",
     "text": [
      "This is agg: tensor(4.1955) \n",
      " This is itemized agg: 4.195498466491699\n"
     ]
    },
    {
     "ename": "ValueError",
     "evalue": "only one element tensors can be converted to Python scalars",
     "output_type": "error",
     "traceback": [
      "\u001b[0;31m---------------------------------------------------------------------------\u001b[0m",
      "\u001b[0;31mValueError\u001b[0m                                Traceback (most recent call last)",
      "\u001b[0;32m<ipython-input-18-febfd0a30189>\u001b[0m in \u001b[0;36m<module>\u001b[0;34m\u001b[0m\n\u001b[1;32m      4\u001b[0m \u001b[0magg_item\u001b[0m \u001b[0;34m=\u001b[0m \u001b[0magg\u001b[0m\u001b[0;34m.\u001b[0m\u001b[0mitem\u001b[0m\u001b[0;34m(\u001b[0m\u001b[0;34m)\u001b[0m\u001b[0;34m\u001b[0m\u001b[0;34m\u001b[0m\u001b[0m\n\u001b[1;32m      5\u001b[0m \u001b[0mprint\u001b[0m\u001b[0;34m(\u001b[0m\u001b[0;34m\"This is agg:\"\u001b[0m\u001b[0;34m,\u001b[0m\u001b[0magg\u001b[0m\u001b[0;34m,\u001b[0m\u001b[0;34m\"\\n This is itemized agg:\"\u001b[0m\u001b[0;34m,\u001b[0m\u001b[0magg_item\u001b[0m\u001b[0;34m)\u001b[0m\u001b[0;34m\u001b[0m\u001b[0;34m\u001b[0m\u001b[0m\n\u001b[0;32m----> 6\u001b[0;31m \u001b[0mprint\u001b[0m\u001b[0;34m(\u001b[0m\u001b[0mtensor\u001b[0m\u001b[0;34m.\u001b[0m\u001b[0mitem\u001b[0m\u001b[0;34m(\u001b[0m\u001b[0;34m)\u001b[0m\u001b[0;34m)\u001b[0m\u001b[0;34m\u001b[0m\u001b[0;34m\u001b[0m\u001b[0m\n\u001b[0m",
      "\u001b[0;31mValueError\u001b[0m: only one element tensors can be converted to Python scalars"
     ]
    }
   ],
   "source": [
    "# Item\n",
    "tensor = torch.rand(3,4)\n",
    "agg = tensor.sum()\n",
    "agg_item = agg.item()\n",
    "print(\"This is agg:\",agg,\"\\n This is itemized agg:\",agg_item)\n"
   ]
  },
  {
   "cell_type": "markdown",
   "id": "7b9932f9",
   "metadata": {},
   "source": [
    "With NumPy:\n",
    "From torch to numpy"
   ]
  },
  {
   "cell_type": "code",
   "execution_count": 20,
   "id": "637cc7a5",
   "metadata": {},
   "outputs": [
    {
     "name": "stdout",
     "output_type": "stream",
     "text": [
      "t: tensor([1., 1., 1., 1., 1.])\n",
      "n: [1. 1. 1. 1. 1.]\n",
      "n is modified, too: [2. 2. 2. 2. 2.]\n"
     ]
    }
   ],
   "source": [
    "tensor = torch.ones(5)\n",
    "print(f\"t: {tensor}\")\n",
    "numpy = tensor.numpy()\n",
    "print(f\"n: {numpy}\")\n",
    "\n",
    "tensor.add_(1)\n",
    "print(f\"n is modified, too: {numpy}\")"
   ]
  },
  {
   "cell_type": "markdown",
   "id": "3c9c38f8",
   "metadata": {},
   "source": [
    "With NumPy:\n",
    "From numpy to torch"
   ]
  },
  {
   "cell_type": "code",
   "execution_count": 22,
   "id": "7da6a994",
   "metadata": {},
   "outputs": [
    {
     "name": "stdout",
     "output_type": "stream",
     "text": [
      "tensor is modified, too:tensor([2., 2., 2., 2., 2.], dtype=torch.float64)\n"
     ]
    }
   ],
   "source": [
    "numpy = np.ones(5)\n",
    "tensor = torch.from_numpy(numpy)\n",
    "np.add(numpy,1,out=numpy)\n",
    "print(f\"tensor is modified, too:{tensor}\")"
   ]
  },
  {
   "cell_type": "code",
   "execution_count": null,
   "id": "e9f4d016",
   "metadata": {},
   "outputs": [],
   "source": []
  }
 ],
 "metadata": {
  "kernelspec": {
   "display_name": "Python 3",
   "language": "python",
   "name": "python3"
  },
  "language_info": {
   "codemirror_mode": {
    "name": "ipython",
    "version": 3
   },
   "file_extension": ".py",
   "mimetype": "text/x-python",
   "name": "python",
   "nbconvert_exporter": "python",
   "pygments_lexer": "ipython3",
   "version": "3.8.8"
  }
 },
 "nbformat": 4,
 "nbformat_minor": 5
}
