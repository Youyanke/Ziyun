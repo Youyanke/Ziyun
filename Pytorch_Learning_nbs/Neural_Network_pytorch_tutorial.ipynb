{
 "cells": [
  {
   "cell_type": "code",
   "execution_count": 1,
   "id": "20c4dffe",
   "metadata": {},
   "outputs": [],
   "source": [
    "import os\n",
    "import torch\n",
    "from torch import nn\n",
    "from torch.utils.data import DataLoader\n",
    "from torchvision import datasets, transforms"
   ]
  },
  {
   "cell_type": "markdown",
   "id": "18829da8",
   "metadata": {},
   "source": [
    "## Check available device and get it"
   ]
  },
  {
   "cell_type": "code",
   "execution_count": 2,
   "id": "be91e349",
   "metadata": {},
   "outputs": [
    {
     "name": "stdout",
     "output_type": "stream",
     "text": [
      "Using cpu device\n"
     ]
    }
   ],
   "source": [
    "device = 'cuda' if torch.cuda.is_available() else 'cpu'\n",
    "print('Using {} device'.format(device))"
   ]
  },
  {
   "cell_type": "code",
   "execution_count": 3,
   "id": "a44d0ba0",
   "metadata": {},
   "outputs": [],
   "source": [
    "class NeuralNetwork(nn.Module):\n",
    "    def __init__(self):\n",
    "        super(NeuralNetwork, self).__init__()  ## Super class\n",
    "        self.flatten = nn.Flatten()\n",
    "        self.linear_relu_stack = nn.Sequential(\n",
    "            nn.Linear(28*28, 512),\n",
    "            nn.ReLU(),\n",
    "            nn.Linear(512, 512),\n",
    "            nn.ReLU(),\n",
    "            nn.Linear(512, 10),\n",
    "        )\n",
    "        \n",
    "    def forward(self, x):\n",
    "        x = self.flatten(x)\n",
    "        logits = self.linear_relu_stack(x)\n",
    "        return logits"
   ]
  },
  {
   "cell_type": "markdown",
   "id": "64f8fb0f-7e2a-465d-acce-93d5c14eadba",
   "metadata": {},
   "source": [
    "## Print the neural network model"
   ]
  },
  {
   "cell_type": "code",
   "execution_count": 4,
   "id": "676dc1e1-6eb3-4ca6-bf29-020ec1269695",
   "metadata": {},
   "outputs": [
    {
     "name": "stdout",
     "output_type": "stream",
     "text": [
      "NeuralNetwork(\n",
      "  (flatten): Flatten(start_dim=1, end_dim=-1)\n",
      "  (linear_relu_stack): Sequential(\n",
      "    (0): Linear(in_features=784, out_features=512, bias=True)\n",
      "    (1): ReLU()\n",
      "    (2): Linear(in_features=512, out_features=512, bias=True)\n",
      "    (3): ReLU()\n",
      "    (4): Linear(in_features=512, out_features=10, bias=True)\n",
      "  )\n",
      ")\n"
     ]
    }
   ],
   "source": [
    "model = NeuralNetwork().to(device)\n",
    "print(model)"
   ]
  },
  {
   "cell_type": "markdown",
   "id": "ff3ec810-7a69-4c2f-9e1b-9d1acd84d588",
   "metadata": {},
   "source": [
    "## Use the model\n",
    "Here use random number as an image example"
   ]
  },
  {
   "cell_type": "code",
   "execution_count": 5,
   "id": "da749182-ca5d-4547-8233-c5298d7b9b1b",
   "metadata": {},
   "outputs": [
    {
     "name": "stdout",
     "output_type": "stream",
     "text": [
      "Predicted class: tensor([3])\n"
     ]
    }
   ],
   "source": [
    "X = torch.rand(1, 28, 28, device = device)\n",
    "logits = model(X)\n",
    "pred_probab = nn.Softmax(dim = 1)(logits)\n",
    "y_pred = pred_probab.argmax(1)\n",
    "print(f\"Predicted class: {y_pred}\")"
   ]
  },
  {
   "cell_type": "markdown",
   "id": "db9d0eca-4d5d-427e-8150-6c86265f7767",
   "metadata": {},
   "source": [
    "Minibatch of images"
   ]
  },
  {
   "cell_type": "code",
   "execution_count": 6,
   "id": "805d2964-dc3e-493f-862a-ca7266e37616",
   "metadata": {
    "tags": []
   },
   "outputs": [
    {
     "name": "stdout",
     "output_type": "stream",
     "text": [
      "torch.Size([3, 28, 28])\n"
     ]
    }
   ],
   "source": [
    "input_image = torch.rand(3, 28, 28)\n",
    "print(input_image.size())"
   ]
  },
  {
   "cell_type": "code",
   "execution_count": 7,
   "id": "b56e9171-42b8-40cc-a5ad-5d63f0b0f370",
   "metadata": {},
   "outputs": [
    {
     "name": "stdout",
     "output_type": "stream",
     "text": [
      "Flattened size: torch.Size([3, 784])\n"
     ]
    }
   ],
   "source": [
    "flatten = nn.Flatten()\n",
    "flat_image = flatten(input_image)\n",
    "print(f\"Flattened size: {flat_image.size()}\")"
   ]
  },
  {
   "cell_type": "code",
   "execution_count": 11,
   "id": "b1d29d1d-1cbc-4552-afed-16579eddb510",
   "metadata": {},
   "outputs": [
    {
     "name": "stdout",
     "output_type": "stream",
     "text": [
      "torch.Size([3, 20])\n"
     ]
    }
   ],
   "source": [
    "layer1 = nn.Linear(in_features = 28*28, out_features = 20)\n",
    "hidden1 = layer1(flat_image)\n",
    "print(hidden1.size())"
   ]
  },
  {
   "cell_type": "code",
   "execution_count": 12,
   "id": "6e031157-974e-42c4-947d-fc2babdb4f59",
   "metadata": {},
   "outputs": [
    {
     "name": "stdout",
     "output_type": "stream",
     "text": [
      "Before ReLU: tensor([[-0.5917, -0.0164, -0.6392, -0.4073, -0.4469,  0.0598, -0.4824, -0.4090,\n",
      "         -0.2903,  0.9750,  0.0831, -0.0559, -0.1657,  0.2222,  0.3094, -0.4128,\n",
      "         -0.0570,  0.0036,  0.2573,  0.3852],\n",
      "        [-0.6163,  0.0472, -0.8553, -0.3444, -0.3010,  0.0535, -0.0578, -0.1023,\n",
      "         -0.2516,  0.7276,  0.1973,  0.1544, -0.4336,  0.1831,  0.2108, -0.6609,\n",
      "         -0.2876,  0.0222,  0.0265,  0.5205],\n",
      "        [-0.2534, -0.0671, -0.5840, -0.2303, -0.1535,  0.0843, -0.3875, -0.2140,\n",
      "         -0.4681,  0.2624,  0.2629,  0.1755, -0.0407,  0.3622,  0.2280, -0.6755,\n",
      "         -0.2204, -0.1599,  0.1481,  0.5487]], grad_fn=<AddmmBackward>)\n",
      "After ReLU: tensor([[0.0000, 0.0000, 0.0000, 0.0000, 0.0000, 0.0598, 0.0000, 0.0000, 0.0000,\n",
      "         0.9750, 0.0831, 0.0000, 0.0000, 0.2222, 0.3094, 0.0000, 0.0000, 0.0036,\n",
      "         0.2573, 0.3852],\n",
      "        [0.0000, 0.0472, 0.0000, 0.0000, 0.0000, 0.0535, 0.0000, 0.0000, 0.0000,\n",
      "         0.7276, 0.1973, 0.1544, 0.0000, 0.1831, 0.2108, 0.0000, 0.0000, 0.0222,\n",
      "         0.0265, 0.5205],\n",
      "        [0.0000, 0.0000, 0.0000, 0.0000, 0.0000, 0.0843, 0.0000, 0.0000, 0.0000,\n",
      "         0.2624, 0.2629, 0.1755, 0.0000, 0.3622, 0.2280, 0.0000, 0.0000, 0.0000,\n",
      "         0.1481, 0.5487]], grad_fn=<ReluBackward0>)\n"
     ]
    }
   ],
   "source": [
    "print(f\"Before ReLU: {hidden1}\")\n",
    "hidden1 = nn.ReLU()(hidden1)\n",
    "print(f\"After ReLU: {hidden1}\")"
   ]
  },
  {
   "cell_type": "code",
   "execution_count": 13,
   "id": "d4fc9400-7f04-4f10-89c7-5dab470fcafd",
   "metadata": {},
   "outputs": [],
   "source": [
    "seq_modules = nn.Sequential(\n",
    "    flatten,\n",
    "    layer1,\n",
    "    nn.ReLU(),\n",
    "    nn.Linear(20, 10)\n",
    ")\n",
    "input_image = torch.rand(3, 28, 28)\n",
    "logit = seq_modules(input_image)"
   ]
  },
  {
   "cell_type": "code",
   "execution_count": 14,
   "id": "46a1b3a4-0d24-4f36-a99a-de5b7fac9093",
   "metadata": {},
   "outputs": [
    {
     "name": "stdout",
     "output_type": "stream",
     "text": [
      "The final result is: tensor([[0.0890, 0.1179, 0.0771, 0.1207, 0.1235, 0.0841, 0.0856, 0.1113, 0.1151,\n",
      "         0.0758],\n",
      "        [0.0977, 0.1210, 0.0805, 0.1347, 0.1104, 0.0816, 0.0768, 0.0973, 0.1248,\n",
      "         0.0753],\n",
      "        [0.1056, 0.1164, 0.0752, 0.1194, 0.1314, 0.0869, 0.0778, 0.1034, 0.1067,\n",
      "         0.0773]], grad_fn=<SoftmaxBackward>)\n"
     ]
    }
   ],
   "source": [
    "softmax = nn.Softmax(dim = 1)\n",
    "pred_prob = softmax(logit)\n",
    "print(f\"The final result is: {pred_prob}\")"
   ]
  },
  {
   "cell_type": "code",
   "execution_count": 15,
   "id": "902a45b2-a46c-4dd6-a101-58293b11f671",
   "metadata": {},
   "outputs": [
    {
     "name": "stdout",
     "output_type": "stream",
     "text": [
      "Model structure:  NeuralNetwork(\n",
      "  (flatten): Flatten(start_dim=1, end_dim=-1)\n",
      "  (linear_relu_stack): Sequential(\n",
      "    (0): Linear(in_features=784, out_features=512, bias=True)\n",
      "    (1): ReLU()\n",
      "    (2): Linear(in_features=512, out_features=512, bias=True)\n",
      "    (3): ReLU()\n",
      "    (4): Linear(in_features=512, out_features=10, bias=True)\n",
      "  )\n",
      ") \n",
      "\n",
      "\n",
      "Layer: linear_relu_stack.0.weight | Size: torch.Size([512, 784]) | Values : tensor([[-0.0306,  0.0278, -0.0153,  ...,  0.0325, -0.0119, -0.0247],\n",
      "        [ 0.0227, -0.0198, -0.0241,  ...,  0.0356, -0.0066,  0.0143]],\n",
      "       grad_fn=<SliceBackward>) \n",
      "\n",
      "Layer: linear_relu_stack.0.bias | Size: torch.Size([512]) | Values : tensor([-0.0074, -0.0317], grad_fn=<SliceBackward>) \n",
      "\n",
      "Layer: linear_relu_stack.2.weight | Size: torch.Size([512, 512]) | Values : tensor([[ 0.0436,  0.0006,  0.0070,  ...,  0.0102,  0.0052, -0.0255],\n",
      "        [-0.0071, -0.0297, -0.0340,  ...,  0.0442, -0.0340, -0.0372]],\n",
      "       grad_fn=<SliceBackward>) \n",
      "\n",
      "Layer: linear_relu_stack.2.bias | Size: torch.Size([512]) | Values : tensor([ 0.0010, -0.0371], grad_fn=<SliceBackward>) \n",
      "\n",
      "Layer: linear_relu_stack.4.weight | Size: torch.Size([10, 512]) | Values : tensor([[ 0.0245, -0.0182,  0.0400,  ...,  0.0313, -0.0102,  0.0239],\n",
      "        [-0.0346,  0.0342, -0.0277,  ...,  0.0106, -0.0352, -0.0088]],\n",
      "       grad_fn=<SliceBackward>) \n",
      "\n",
      "Layer: linear_relu_stack.4.bias | Size: torch.Size([10]) | Values : tensor([-0.0377, -0.0316], grad_fn=<SliceBackward>) \n",
      "\n"
     ]
    }
   ],
   "source": [
    "print(\"Model structure: \", model, \"\\n\\n\")\n",
    "\n",
    "for name, param in model.named_parameters():\n",
    "    print(f\"Layer: {name} | Size: {param.size()} | Values : {param[:2]} \\n\")"
   ]
  },
  {
   "cell_type": "code",
   "execution_count": null,
   "id": "6b40632d-89ad-40c8-8fa3-0237e1fb35a7",
   "metadata": {},
   "outputs": [],
   "source": []
  }
 ],
 "metadata": {
  "kernelspec": {
   "display_name": "Python 3",
   "language": "python",
   "name": "python3"
  },
  "language_info": {
   "codemirror_mode": {
    "name": "ipython",
    "version": 3
   },
   "file_extension": ".py",
   "mimetype": "text/x-python",
   "name": "python",
   "nbconvert_exporter": "python",
   "pygments_lexer": "ipython3",
   "version": "3.8.8"
  }
 },
 "nbformat": 4,
 "nbformat_minor": 5
}
