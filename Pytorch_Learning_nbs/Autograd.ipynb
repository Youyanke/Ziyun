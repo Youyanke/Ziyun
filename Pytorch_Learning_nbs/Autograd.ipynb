{
 "cells": [
  {
   "cell_type": "code",
   "execution_count": 1,
   "id": "3087bc16-050b-46ad-bd2f-8b281eb26e13",
   "metadata": {},
   "outputs": [],
   "source": [
    "%matplotlib inline"
   ]
  },
  {
   "cell_type": "code",
   "execution_count": 2,
   "id": "c94d2285-76ba-4850-a1ae-f0e407d510ac",
   "metadata": {},
   "outputs": [],
   "source": [
    "import torch\n",
    "\n",
    "x = torch.ones(5)  # input tensor\n",
    "y = torch.zeros(3)  # expected output\n",
    "w = torch.randn(5, 3, requires_grad=True)\n",
    "b = torch.randn(3, requires_grad=True)\n",
    "z = torch.matmul(x, w)+b\n",
    "\n",
    "loss = torch.nn.functional.binary_cross_entropy_with_logits(z, y)"
   ]
  },
  {
   "cell_type": "code",
   "execution_count": 3,
   "id": "882045e8-a724-49d6-9a8c-25358506db54",
   "metadata": {},
   "outputs": [
    {
     "name": "stdout",
     "output_type": "stream",
     "text": [
      "Gradient function for z = <AddBackward0 object at 0x7feed0f68160>\n",
      "Gradient function for loss = <BinaryCrossEntropyWithLogitsBackward object at 0x7feed0f68040>\n"
     ]
    }
   ],
   "source": [
    "print('Gradient function for z =', z.grad_fn)\n",
    "print('Gradient function for loss =', loss.grad_fn)"
   ]
  },
  {
   "cell_type": "code",
   "execution_count": 4,
   "id": "37ac3fd9-f823-44ee-81d4-6b7e54e258b3",
   "metadata": {},
   "outputs": [
    {
     "name": "stdout",
     "output_type": "stream",
     "text": [
      "tensor([[0.0667, 0.0494, 0.1931],\n",
      "        [0.0667, 0.0494, 0.1931],\n",
      "        [0.0667, 0.0494, 0.1931],\n",
      "        [0.0667, 0.0494, 0.1931],\n",
      "        [0.0667, 0.0494, 0.1931]])\n",
      "tensor([0.0667, 0.0494, 0.1931])\n"
     ]
    }
   ],
   "source": [
    "loss.backward()\n",
    "print(w.grad)\n",
    "print(b.grad)"
   ]
  },
  {
   "cell_type": "markdown",
   "id": "f68c754b-3fd9-4860-a24a-a53610bcf9ce",
   "metadata": {},
   "source": [
    "# Disabling gradient tracking"
   ]
  },
  {
   "cell_type": "code",
   "execution_count": 5,
   "id": "0562c44c-1778-4c92-a358-b8458da9f1e0",
   "metadata": {},
   "outputs": [
    {
     "name": "stdout",
     "output_type": "stream",
     "text": [
      "True\n",
      "False\n"
     ]
    }
   ],
   "source": [
    "z = torch.matmul(x, w) + b\n",
    "print(z.requires_grad)\n",
    "\n",
    "with torch.no_grad():\n",
    "    z = torch.matmul(x, w) + b\n",
    "print(z.requires_grad)"
   ]
  },
  {
   "cell_type": "code",
   "execution_count": 8,
   "id": "9feb54c6-a3dc-49a9-8ad3-e598a43094e5",
   "metadata": {},
   "outputs": [
    {
     "name": "stdout",
     "output_type": "stream",
     "text": [
      "True\n",
      "False\n",
      "tensor([-1.3857, -1.7498,  0.3194])\n"
     ]
    }
   ],
   "source": [
    "z = torch.matmul(x, w) + b\n",
    "print(z.requires_grad)\n",
    "\n",
    "z_det = z.detach()\n",
    "print(z_det.requires_grad)\n",
    "print(z_det)"
   ]
  },
  {
   "cell_type": "code",
   "execution_count": null,
   "id": "9ce1c917-6c36-4949-abd0-d5859b81a22a",
   "metadata": {},
   "outputs": [],
   "source": []
  }
 ],
 "metadata": {
  "kernelspec": {
   "display_name": "Python 3",
   "language": "python",
   "name": "python3"
  },
  "language_info": {
   "codemirror_mode": {
    "name": "ipython",
    "version": 3
   },
   "file_extension": ".py",
   "mimetype": "text/x-python",
   "name": "python",
   "nbconvert_exporter": "python",
   "pygments_lexer": "ipython3",
   "version": "3.8.8"
  }
 },
 "nbformat": 4,
 "nbformat_minor": 5
}
